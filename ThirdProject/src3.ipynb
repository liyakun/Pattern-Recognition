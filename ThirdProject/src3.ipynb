{
 "cells": [
  {
   "cell_type": "markdown",
   "metadata": {},
   "source": [
    "## Solution to the second project"
   ]
  },
  {
   "cell_type": "markdown",
   "metadata": {},
   "source": [
    "#### All the imports here"
   ]
  },
  {
   "cell_type": "code",
   "execution_count": 1,
   "metadata": {
    "collapsed": true
   },
   "outputs": [],
   "source": [
    "import numpy as np\n",
    "import random\n",
    "import sys\n",
    "import math\n",
    "import time"
   ]
  },
  {
   "cell_type": "markdown",
   "metadata": {},
   "source": [
    "#### Making matplotlib more tolerable"
   ]
  },
  {
   "cell_type": "code",
   "execution_count": 2,
   "metadata": {
    "collapsed": false
   },
   "outputs": [
    {
     "name": "stdout",
     "output_type": "stream",
     "text": [
      "Populating the interactive namespace from numpy and matplotlib\n"
     ]
    },
    {
     "name": "stderr",
     "output_type": "stream",
     "text": [
      "WARNING: pylab import has clobbered these variables: ['random']\n",
      "`%matplotlib` prevents importing * from pylab and numpy\n"
     ]
    }
   ],
   "source": [
    "import matplotlib.pyplot as plt\n",
    "%pylab inline\n",
    "plt.xkcd();"
   ]
  },
  {
   "cell_type": "markdown",
   "metadata": {},
   "source": [
    "### Task 3.1 (Marek)"
   ]
  },
  {
   "cell_type": "code",
   "execution_count": 3,
   "metadata": {
    "collapsed": true
   },
   "outputs": [],
   "source": [
    "def calcDistance(center, point):\n",
    "    return math.sqrt((center[0] - point[0])**2 + (center[1] - point[1])**2)\n",
    "\n",
    "\n",
    "def assignPointsToNearestCluster(centers, data):\n",
    "    index = np.zeros( len(data[0, :]))\n",
    "    # assign points to clusters/centers\n",
    "    for i in range(len(data[0, :])):\n",
    "        min_dist = sys.float_info.max\n",
    "    cluster = 0\n",
    "    for j in range(len(centers[:, 0])):\n",
    "        distFromCenterToPoint = calcDistance(centers[j, :], data[:, i])\n",
    "        if distFromCenterToPoint < min_dist:\n",
    "            min_dist = distFromCenterToPoint\n",
    "            cluster = j\n",
    "    \n",
    "    index[i] = cluster\n",
    "    return index\n",
    "\n",
    "\n",
    "def calculateObjectiveFunction(centers, data, index):\n",
    "    error = 0.0\n",
    "    for i in range(len(data[0, :])):\n",
    "        for j in range(len(centers[:, 0])):\n",
    "            if index[i] == j:\n",
    "                error += calcDistance( centers[j, :], data[:, i])\n",
    "    \n",
    "    return error\n",
    "\n",
    "\n",
    "def calcMeanOfCenter(centers, index, i ):\n",
    "    centers[i, 0] = 0.0\n",
    "    centers[i, 1] = 0.0\n",
    "    \n",
    "    # calculate new position of centroid i\n",
    "    no_of_points_in_cluster = sum((index) == i)  # sum number of points assigned to a center\t\n",
    "    \n",
    "    for j in range(len(index)):  # loop over all indexes of points\n",
    "        if index[j] == i:  # if point is assigned to center add it\n",
    "            centers[i, 0] = centers[i, 0] + data[0, i]\n",
    "            centers[i, 1] = centers[i, 1] + data[1, i]\n",
    "    \n",
    "    if no_of_points_in_cluster != 0:\n",
    "        centers[i, 0] = centers[i, 0] / float(no_of_points_in_cluster)\n",
    "        centers[i, 1] = centers[i, 1] / float(no_of_points_in_cluster)\n",
    "    \n",
    "    return centers\n",
    "\n",
    "\n",
    "def determineWinnerCentroid(centers, x):\n",
    "    min_dist = sys.float_info.max\n",
    "    center_index = 0\n",
    "    for i in range(len(centers[:, 0])):\n",
    "        distFromCenterToPoint = calcDistance(centers[i, :], x)\n",
    "        if (distFromCenterToPoint < min_dist):\n",
    "            min_dist = distFromCenterToPoint\n",
    "            center_index = i\n",
    "    \n",
    "    return center_index\n",
    "\n",
    "\n",
    "def LIoyds(data, k):\n",
    "    min_val_X = min(data[0, :])\n",
    "    min_val_Y = min(data[1, :])\n",
    "    max_val_X = max(data[0, :])\n",
    "    max_val_Y = max(data[1, :])\n",
    "    \n",
    "    # initialize centers\n",
    "    centers = np.zeros((k, 2), np.float64 )\n",
    "    for i in range(k):\n",
    "        centers[i, 0] = random.uniform(min_val_X, max_val_X)\n",
    "        centers[i, 1] = random.uniform(min_val_Y, max_val_Y)\n",
    "    \n",
    "    index = np.zeros(len(data[0, :]))\n",
    "    index_previous = np.zeros(len(data[0, :]))\n",
    "    \n",
    "    change = True\n",
    "    # loop until there is no change in assignment to clusters\n",
    "    while change == True:\n",
    "        index = assignPointsToNearestCluster(centers, data)\n",
    "    \n",
    "        # if assignment to centers did not change then stop algorithm\n",
    "        if np.array_equal( index , index_previous ):\n",
    "            change == False\n",
    "            break\n",
    "    \n",
    "        #compute centers for all centroids\n",
    "        for l in range(k):\n",
    "            centers = calcMeanOfCenter(centers, index, l)\n",
    "    \n",
    "        index_previous = np.copy( index )\n",
    "    \n",
    "    return index, centers\n",
    "\n",
    "\n",
    "def Hartigan(data, k):\n",
    "    min_val_X = min(data[0,:])\n",
    "    min_val_Y = min(data[1,:])\n",
    "    max_val_X = max(data[0,:])\n",
    "    max_val_Y = max(data[1,:])\n",
    "    \n",
    "    # initialize centers\n",
    "    centers = np.zeros((k, 2), np.float64 )\n",
    "    \n",
    "    #randomly assign points to clusters\n",
    "    index = np.zeros( len(data[0,:]) )\n",
    "    for i in range( len(data[0,:]) ):\n",
    "        index[i] = random.randint(0,k-1)\n",
    "    \n",
    "    #compute mean of centers\n",
    "    centers = calcMeanOfCenter(centers, index, 0)\n",
    "    centers = calcMeanOfCenter(centers, index, 1)\n",
    "    centers = calcMeanOfCenter(centers, index, 2)\n",
    "    \n",
    "    change = True\n",
    "    # loop until there is no change in assignment to clusters\n",
    "    while change == True:\n",
    "    \n",
    "        change = False\n",
    "        for j in range( len(data[0,:]) ):\n",
    "            init_center = index[j] #get center i for point j\n",
    "            index[j]= -1 # remove point j from center\n",
    "            centers = calcMeanOfCenter(centers, index, init_center) #recalculate mean for center i\n",
    "            \n",
    "            min_error = sys.float_info.max\n",
    "            proper_cluster = 0\n",
    "            for i in range(k):\n",
    "                index[j] = i #assign point j to cluster i\n",
    "                objFunResult = calculateObjectiveFunction(centers, data, index)\n",
    "                if ( min_error > objFunResult ):\n",
    "                    min_error = objFunResult\n",
    "                    proper_cluster = i\n",
    "    \n",
    "            if ( proper_cluster != init_center ): # if change in assignment to centers was found\n",
    "                change = True # continue iterations\n",
    "    \n",
    "            index[j] = proper_cluster #assign point to cluster for which objective function is the lowest\n",
    "    \n",
    "            centers = calcMeanOfCenter(centers, index, proper_cluster) #recalculate mean for center i\n",
    "        \n",
    "    return index, centers\n",
    "\n",
    "\n",
    "\n",
    "def MacQueen(data , k):\n",
    "    min_val_X = min(data[0,:])\n",
    "    min_val_Y = min(data[1,:])\n",
    "    max_val_X = max(data[0,:])\n",
    "    max_val_Y = max(data[1,:])\n",
    "    \n",
    "    # initialize centers\n",
    "    centers = np.zeros((k, 2), np.float64 )\n",
    "    for i in range(k):\n",
    "        centers[i,0] = random.uniform( min_val_X , max_val_X )\n",
    "        centers[i,1] = random.uniform( min_val_Y , max_val_Y )\n",
    "    \n",
    "    n = 0\n",
    "    for j in range( len(data[0,:]) ):\n",
    "        center_index = determineWinnerCentroid(centers , data[:,j])\n",
    "        n += 1\n",
    "        centers[center_index,:] += 1/float(n)*( data[:,j] - centers[center_index,:])  \n",
    "    \n",
    "    index = assignPointsToNearestCluster(centers , data)\n",
    "    \n",
    "    return index, centers\n",
    "\n",
    "\n",
    "def plotData( data , indexes , centers , str, axs):\n",
    "\n",
    "    bool_idx = (indexes == 0)\n",
    "    axs.scatter(data[0,bool_idx], data[1,bool_idx], color='red')\n",
    "    axs.scatter(centers[0,0], centers[0,1], s=100 , color='red', edgecolors='black')\n",
    "\n",
    "    bool_idx = (indexes == 1)\n",
    "    axs.scatter(data[0,bool_idx], data[1,bool_idx], color='orange')\n",
    "    axs.scatter(centers[1,0], centers[1,1], s=100 , color='orange', edgecolors='black')\n",
    "\n",
    "    bool_idx = (indexes == 2)\n",
    "    axs.scatter(data[0,bool_idx], data[1,bool_idx], color='green')\n",
    "    axs.scatter(centers[2,0], centers[2,1], s=100 , color='green', edgecolors='black')\n",
    "\n",
    "    axs.set_title(str)\n",
    "    return axs\n",
    "\n",
    "\n",
    "def measureAlgRunTimes(data):\n",
    "    start = time.time()\n",
    "    for i in range(10):\n",
    "        [indexes, centers] = LIoyds(data , 3)\n",
    "    end = time.time()\n",
    "    avg_time = (end - start)/10.0\n",
    "\n",
    "    print \"LIoyds algorithm average time:   \",avg_time\n",
    "\n",
    "    start = time.time()\n",
    "    for i in range(10):\n",
    "        [indexes, centers] = Hartigan(data , 3)\n",
    "    end = time.time()\n",
    "    avg_time = (end - start)/10.0\n",
    "\n",
    "    print \"Hartigan algorithm average time:   \",avg_time\n",
    "\n",
    "    start = time.time()\n",
    "    for i in range(10):\n",
    "        [indexes, centers] = MacQueen(data , 3)\n",
    "    end = time.time()\n",
    "    avg_time = (end - start)/10.0\n",
    "\n",
    "    print \"MacQueen algorithm average time:   \",avg_time"
   ]
  },
  {
   "cell_type": "code",
   "execution_count": 4,
   "metadata": {
    "collapsed": false
   },
   "outputs": [
    {
     "name": "stderr",
     "output_type": "stream",
     "text": [
      "/usr/local/lib/python2.7/dist-packages/ipykernel/__main__.py:32: DeprecationWarning: using a non-integer number instead of an integer will result in an error in the future\n",
      "/usr/local/lib/python2.7/dist-packages/ipykernel/__main__.py:33: DeprecationWarning: using a non-integer number instead of an integer will result in an error in the future\n",
      "/usr/local/lib/python2.7/dist-packages/ipykernel/__main__.py:40: DeprecationWarning: using a non-integer number instead of an integer will result in an error in the future\n",
      "/usr/local/lib/python2.7/dist-packages/ipykernel/__main__.py:41: DeprecationWarning: using a non-integer number instead of an integer will result in an error in the future\n",
      "/usr/local/lib/python2.7/dist-packages/ipykernel/__main__.py:44: DeprecationWarning: using a non-integer number instead of an integer will result in an error in the future\n",
      "/usr/local/lib/python2.7/dist-packages/ipykernel/__main__.py:45: DeprecationWarning: using a non-integer number instead of an integer will result in an error in the future\n",
      "/usr/local/lib/python2.7/dist-packages/matplotlib/font_manager.py:1288: UserWarning: findfont: Font family [u'Humor Sans', u'Comic Sans MS'] not found. Falling back to Bitstream Vera Sans\n",
      "  (prop.get_family(), self.defaultFamily[fontext]))\n"
     ]
    },
    {
     "data": {
      "image/png": "[encoded data removed]",
      "text/plain": [
       "<matplotlib.figure.Figure at 0x7f953010fe50>"
      ]
     },
     "metadata": {},
     "output_type": "display_data"
    },
    {
     "name": "stdout",
     "output_type": "stream",
     "text": [
      "LIoyds algorithm average time:    0.000501894950867\n",
      "Hartigan algorithm average time:    1.71620390415\n",
      "MacQueen algorithm average time:    0.00300350189209\n"
     ]
    }
   ],
   "source": [
    "data = np.loadtxt('resources/data-clustering-1.csv', None, comments='#', delimiter=',')\n",
    "\n",
    "fig = plt.figure()\n",
    "axs1 = fig.add_subplot(131)\n",
    "axs2 = fig.add_subplot(132)\n",
    "axs3 = fig.add_subplot(133)\n",
    "\n",
    "[indexes, centers] = LIoyds(data , 3)\n",
    "axs1 = plotData(data,indexes,centers, \"LIoyds\" , axs1)\n",
    "\n",
    "[indexes, centers] = Hartigan(data , 3)\n",
    "axs2 = plotData(data,indexes,centers, \"Hartigan\", axs2)\n",
    "\n",
    "[indexes, centers] = MacQueen(data , 3)\n",
    "axs3 = plotData(data,indexes,centers, \"MacQueen\", axs3)\n",
    "\n",
    "plt.show()\n",
    "\n",
    "measureAlgRunTimes(data)"
   ]
  }
 ],
 "metadata": {
  "kernelspec": {
   "display_name": "Python 2",
   "language": "python",
   "name": "python2"
  },
  "language_info": {
   "codemirror_mode": {
    "name": "ipython",
    "version": 2
   },
   "file_extension": ".py",
   "mimetype": "text/x-python",
   "name": "python",
   "nbconvert_exporter": "python",
   "pygments_lexer": "ipython2",
   "version": "2.7.6"
  }
 },
 "nbformat": 4,
 "nbformat_minor": 0
}
