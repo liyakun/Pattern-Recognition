{
 "cells": [
  {
   "cell_type": "markdown",
   "metadata": {},
   "source": [
    "## Solution to the third project"
   ]
  },
  {
   "cell_type": "markdown",
   "metadata": {},
   "source": [
    "#### All the imports here"
   ]
  },
  {
   "cell_type": "code",
   "execution_count": 1,
   "metadata": {
    "collapsed": true
   },
   "outputs": [],
   "source": [
    "import numpy as np\n",
    "import numpy.linalg as la\n",
    "import random\n",
    "import sys\n",
    "import math\n",
    "import time"
   ]
  },
  {
   "cell_type": "markdown",
   "metadata": {},
   "source": [
    "#### Making matplotlib more tolerable"
   ]
  },
  {
   "cell_type": "code",
   "execution_count": 2,
   "metadata": {
    "collapsed": false
   },
   "outputs": [
    {
     "name": "stdout",
     "output_type": "stream",
     "text": [
      "Populating the interactive namespace from numpy and matplotlib\n"
     ]
    },
    {
     "name": "stderr",
     "output_type": "stream",
     "text": [
      "WARNING: pylab import has clobbered these variables: ['random']\n",
      "`%matplotlib` prevents importing * from pylab and numpy\n"
     ]
    }
   ],
   "source": [
    "import matplotlib.pyplot as plt\n",
    "from mpl_toolkits.mplot3d import Axes3D\n",
    "%pylab inline\n",
    "plt.xkcd();"
   ]
  },
  {
   "cell_type": "markdown",
   "metadata": {},
   "source": [
    "### Task 3.1 (Marek)"
   ]
  },
  {
   "cell_type": "code",
   "execution_count": 3,
   "metadata": {
    "collapsed": true
   },
   "outputs": [],
   "source": [
    "def calcDistance(center, point):\n",
    "    return np.sqrt(np.power(center[0] - point[0], 2) + np.power(center[1] - point[1], 2))\n",
    "    #return math.sqrt((center[0] - point[0])**2 + (center[1] - point[1])**2)\n",
    "\n",
    "\n",
    "def assignPointsToNearestCluster(centers, data):\n",
    "    index = np.zeros(len(data[0, :]))\n",
    "    # assign points to clusters/centers\n",
    "    for i in range(len(data[0, :])):\n",
    "        min_dist = sys.float_info.max\n",
    "    cluster = 0\n",
    "    for j in range(len(centers[:, 0])):\n",
    "        distFromCenterToPoint = calcDistance(centers[j, :], data[:, i])\n",
    "        if distFromCenterToPoint < min_dist:\n",
    "            min_dist = distFromCenterToPoint\n",
    "            cluster = j\n",
    "    \n",
    "    index[i] = cluster\n",
    "    return index\n",
    "\n",
    "\n",
    "def calculateObjectiveFunction(centers, data, index):\n",
    "    error = 0.0\n",
    "    for i in range(len(data[0, :])):\n",
    "        for j in range(len(centers[:, 0])):\n",
    "            if index[i] == j:\n",
    "                error += calcDistance( centers[j, :], data[:, i])\n",
    "    \n",
    "    return error\n",
    "\n",
    "\n",
    "def calcMeanOfCenter(centers, index, i ):\n",
    "    centers[i, 0] = 0.0\n",
    "    centers[i, 1] = 0.0\n",
    "    \n",
    "    # calculate new position of centroid i\n",
    "    no_of_points_in_cluster = sum((index) == i)  # sum number of points assigned to a center\t\n",
    "    \n",
    "    for j in range(len(index)):  # loop over all indexes of points\n",
    "        if index[j] == i:  # if point is assigned to center add it\n",
    "            centers[i, 0] = centers[i, 0] + data[0, i]\n",
    "            centers[i, 1] = centers[i, 1] + data[1, i]\n",
    "    \n",
    "    if no_of_points_in_cluster != 0:\n",
    "        centers[i, 0] = centers[i, 0] / float(no_of_points_in_cluster)\n",
    "        centers[i, 1] = centers[i, 1] / float(no_of_points_in_cluster)\n",
    "    \n",
    "    return centers\n",
    "\n",
    "\n",
    "def determineWinnerCentroid(centers, x):\n",
    "    min_dist = sys.float_info.max\n",
    "    center_index = 0\n",
    "    for i in range(len(centers[:, 0])):\n",
    "        distFromCenterToPoint = calcDistance(centers[i, :], x)\n",
    "        if (distFromCenterToPoint < min_dist):\n",
    "            min_dist = distFromCenterToPoint\n",
    "            center_index = i\n",
    "    \n",
    "    return center_index\n",
    "\n",
    "\n",
    "def LIoyds(data, k):\n",
    "    min_val_X = min(data[0, :])\n",
    "    min_val_Y = min(data[1, :])\n",
    "    max_val_X = max(data[0, :])\n",
    "    max_val_Y = max(data[1, :])\n",
    "    \n",
    "    # initialize centers\n",
    "    centers = np.zeros((k, 2), np.float64 )\n",
    "    for i in range(k):\n",
    "        centers[i, 0] = random.uniform(min_val_X, max_val_X)\n",
    "        centers[i, 1] = random.uniform(min_val_Y, max_val_Y)\n",
    "    \n",
    "    index = np.zeros(len(data[0, :]))\n",
    "    index_previous = np.zeros(len(data[0, :]))\n",
    "    \n",
    "    change = True\n",
    "    # loop until there is no change in assignment to clusters\n",
    "    while change == True:\n",
    "        index = assignPointsToNearestCluster(centers, data)\n",
    "    \n",
    "        # if assignment to centers did not change then stop algorithm\n",
    "        if np.array_equal( index , index_previous ):\n",
    "            change == False\n",
    "            break\n",
    "    \n",
    "        #compute centers for all centroids\n",
    "        for l in range(k):\n",
    "            centers = calcMeanOfCenter(centers, index, l)\n",
    "    \n",
    "        index_previous = np.copy( index )\n",
    "    \n",
    "    return index, centers\n",
    "\n",
    "\n",
    "def Hartigan(data, k):\n",
    "    min_val_X = min(data[0,:])\n",
    "    min_val_Y = min(data[1,:])\n",
    "    max_val_X = max(data[0,:])\n",
    "    max_val_Y = max(data[1,:])\n",
    "    \n",
    "    # initialize centers\n",
    "    centers = np.zeros((k, 2), np.float64 )\n",
    "    \n",
    "    #randomly assign points to clusters\n",
    "    index = np.zeros( len(data[0,:]) )\n",
    "    for i in range( len(data[0,:]) ):\n",
    "        index[i] = random.randint(0,k-1)\n",
    "    \n",
    "    #compute mean of centers\n",
    "    centers = calcMeanOfCenter(centers, index, 0)\n",
    "    centers = calcMeanOfCenter(centers, index, 1)\n",
    "    centers = calcMeanOfCenter(centers, index, 2)\n",
    "    \n",
    "    change = True\n",
    "    # loop until there is no change in assignment to clusters\n",
    "    while change == True:\n",
    "    \n",
    "        change = False\n",
    "        for j in range( len(data[0,:]) ):\n",
    "            init_center = index[j] #get center i for point j\n",
    "            index[j]= -1 # remove point j from center\n",
    "            centers = calcMeanOfCenter(centers, index, init_center) #recalculate mean for center i\n",
    "            \n",
    "            min_error = sys.float_info.max\n",
    "            proper_cluster = 0\n",
    "            for i in range(k):\n",
    "                index[j] = i #assign point j to cluster i\n",
    "                objFunResult = calculateObjectiveFunction(centers, data, index)\n",
    "                if ( min_error > objFunResult ):\n",
    "                    min_error = objFunResult\n",
    "                    proper_cluster = i\n",
    "    \n",
    "            if ( proper_cluster != init_center ): # if change in assignment to centers was found\n",
    "                change = True # continue iterations\n",
    "    \n",
    "            index[j] = proper_cluster #assign point to cluster for which objective function is the lowest\n",
    "    \n",
    "            centers = calcMeanOfCenter(centers, index, proper_cluster) #recalculate mean for center i\n",
    "        \n",
    "    return index, centers\n",
    "\n",
    "\n",
    "\n",
    "def MacQueen(data , k):\n",
    "    min_val_X = min(data[0,:])\n",
    "    min_val_Y = min(data[1,:])\n",
    "    max_val_X = max(data[0,:])\n",
    "    max_val_Y = max(data[1,:])\n",
    "    \n",
    "    # initialize centers\n",
    "    centers = np.zeros((k, 2), np.float64 )\n",
    "    for i in range(k):\n",
    "        centers[i,0] = random.uniform( min_val_X , max_val_X )\n",
    "        centers[i,1] = random.uniform( min_val_Y , max_val_Y )\n",
    "    \n",
    "    n = 0\n",
    "    for j in range( len(data[0,:]) ):\n",
    "        center_index = determineWinnerCentroid(centers , data[:,j])\n",
    "        n += 1\n",
    "        centers[center_index,:] += 1/float(n)*( data[:,j] - centers[center_index,:])  \n",
    "    \n",
    "    index = assignPointsToNearestCluster(centers , data)\n",
    "    \n",
    "    return index, centers\n",
    "\n",
    "\n",
    "def plotData( data , indexes , centers , str, axs):\n",
    "\n",
    "    bool_idx = (indexes == 0)\n",
    "    axs.scatter(data[0,bool_idx], data[1,bool_idx], color='red')\n",
    "    axs.scatter(centers[0,0], centers[0,1], s=100 , color='red', edgecolors='black')\n",
    "\n",
    "    bool_idx = (indexes == 1)\n",
    "    axs.scatter(data[0,bool_idx], data[1,bool_idx], color='orange')\n",
    "    axs.scatter(centers[1,0], centers[1,1], s=100 , color='orange', edgecolors='black')\n",
    "\n",
    "    bool_idx = (indexes == 2)\n",
    "    axs.scatter(data[0,bool_idx], data[1,bool_idx], color='green')\n",
    "    axs.scatter(centers[2,0], centers[2,1], s=100 , color='green', edgecolors='black')\n",
    "\n",
    "    axs.set_title(str)\n",
    "    return axs\n",
    "\n",
    "\n",
    "def measureAlgRunTimes(data):\n",
    "    start = time.time()\n",
    "    for i in range(10):\n",
    "        [indexes, centers] = LIoyds(data , 3)\n",
    "    end = time.time()\n",
    "    avg_time = (end - start)/10.0\n",
    "\n",
    "    print \"LIoyds algorithm average time:   \",avg_time\n",
    "\n",
    "    start = time.time()\n",
    "    for i in range(10):\n",
    "        [indexes, centers] = Hartigan(data , 3)\n",
    "    end = time.time()\n",
    "    avg_time = (end - start)/10.0\n",
    "\n",
    "    print \"Hartigan algorithm average time:   \",avg_time\n",
    "\n",
    "    start = time.time()\n",
    "    for i in range(10):\n",
    "        [indexes, centers] = MacQueen(data , 3)\n",
    "    end = time.time()\n",
    "    avg_time = (end - start)/10.0\n",
    "\n",
    "    print \"MacQueen algorithm average time:   \",avg_time"
   ]
  },
  {
   "cell_type": "code",
   "execution_count": 4,
   "metadata": {
    "collapsed": false
   },
   "outputs": [
    {
     "name": "stderr",
     "output_type": "stream",
     "text": [
      "/opt/local/Library/Frameworks/Python.framework/Versions/2.7/lib/python2.7/site-packages/ipykernel/__main__.py:33: DeprecationWarning: using a non-integer number instead of an integer will result in an error in the future\n",
      "/opt/local/Library/Frameworks/Python.framework/Versions/2.7/lib/python2.7/site-packages/ipykernel/__main__.py:34: DeprecationWarning: using a non-integer number instead of an integer will result in an error in the future\n",
      "/opt/local/Library/Frameworks/Python.framework/Versions/2.7/lib/python2.7/site-packages/ipykernel/__main__.py:41: DeprecationWarning: using a non-integer number instead of an integer will result in an error in the future\n",
      "/opt/local/Library/Frameworks/Python.framework/Versions/2.7/lib/python2.7/site-packages/ipykernel/__main__.py:42: DeprecationWarning: using a non-integer number instead of an integer will result in an error in the future\n",
      "/opt/local/Library/Frameworks/Python.framework/Versions/2.7/lib/python2.7/site-packages/ipykernel/__main__.py:45: DeprecationWarning: using a non-integer number instead of an integer will result in an error in the future\n",
      "/opt/local/Library/Frameworks/Python.framework/Versions/2.7/lib/python2.7/site-packages/ipykernel/__main__.py:46: DeprecationWarning: using a non-integer number instead of an integer will result in an error in the future\n"
     ]
    },
    {
     "data": {
      "image/png": "[encoded data removed]",
      "text/plain": [
       "<matplotlib.figure.Figure at 0x10ea93690>"
      ]
     },
     "metadata": {},
     "output_type": "display_data"
    },
    {
     "name": "stdout",
     "output_type": "stream",
     "text": [
      "LIoyds algorithm average time:    0.000744795799255\n",
      "Hartigan algorithm average time:    3.16751098633\n",
      "MacQueen algorithm average time:    0.00493478775024\n"
     ]
    }
   ],
   "source": [
    "data = np.loadtxt('resources/data-clustering-1.csv', None, comments='#', delimiter=',')\n",
    "\n",
    "fig = plt.figure()\n",
    "axs1 = fig.add_subplot(131)\n",
    "axs2 = fig.add_subplot(132)\n",
    "axs3 = fig.add_subplot(133)\n",
    "\n",
    "[indexes, centers] = LIoyds(data , 3)\n",
    "axs1 = plotData(data,indexes,centers, \"LIoyds\" , axs1)\n",
    "\n",
    "[indexes, centers] = Hartigan(data , 3)\n",
    "axs2 = plotData(data,indexes,centers, \"Hartigan\", axs2)\n",
    "\n",
    "[indexes, centers] = MacQueen(data , 3)\n",
    "axs3 = plotData(data,indexes,centers, \"MacQueen\", axs3)\n",
    "\n",
    "plt.show()\n",
    "\n",
    "measureAlgRunTimes(data)"
   ]
  },
  {
   "cell_type": "code",
   "execution_count": 5,
   "metadata": {
    "collapsed": true
   },
   "outputs": [],
   "source": [
    "### Task 3.2 (yobibyte)"
   ]
  },
  {
   "cell_type": "code",
   "execution_count": 16,
   "metadata": {
    "collapsed": false
   },
   "outputs": [
    {
     "ename": "TypeError",
     "evalue": "data type not understood",
     "output_type": "error",
     "traceback": [
      "\u001b[0;31m---------------------------------------------------------------------------\u001b[0m",
      "\u001b[0;31mTypeError\u001b[0m                                 Traceback (most recent call last)",
      "\u001b[0;32m<ipython-input-16-085e5a87a721>\u001b[0m in \u001b[0;36m<module>\u001b[0;34m()\u001b[0m\n\u001b[1;32m      9\u001b[0m \u001b[0;34m\u001b[0m\u001b[0m\n\u001b[1;32m     10\u001b[0m \u001b[0mn\u001b[0m \u001b[0;34m=\u001b[0m \u001b[0mlen\u001b[0m\u001b[0;34m(\u001b[0m\u001b[0mdata\u001b[0m\u001b[0;34m[\u001b[0m\u001b[0;36m0\u001b[0m\u001b[0;34m]\u001b[0m\u001b[0;34m)\u001b[0m\u001b[0;34m\u001b[0m\u001b[0m\n\u001b[0;32m---> 11\u001b[0;31m \u001b[0mS\u001b[0m \u001b[0;34m=\u001b[0m \u001b[0mnp\u001b[0m\u001b[0;34m.\u001b[0m\u001b[0mzeros\u001b[0m\u001b[0;34m(\u001b[0m\u001b[0mn\u001b[0m\u001b[0;34m,\u001b[0m\u001b[0mn\u001b[0m\u001b[0;34m)\u001b[0m\u001b[0;34m\u001b[0m\u001b[0m\n\u001b[0m\u001b[1;32m     12\u001b[0m \u001b[0mbeta\u001b[0m \u001b[0;34m=\u001b[0m \u001b[0;36m1\u001b[0m\u001b[0;34m\u001b[0m\u001b[0m\n\u001b[1;32m     13\u001b[0m \u001b[0;34m\u001b[0m\u001b[0m\n",
      "\u001b[0;31mTypeError\u001b[0m: data type not understood"
     ]
    },
    {
     "data": {
      "image/png": "[encoded data removed]",
      "text/plain": [
       "<matplotlib.figure.Figure at 0x1102c67d0>"
      ]
     },
     "metadata": {},
     "output_type": "display_data"
    }
   ],
   "source": [
    "data = np.loadtxt('resources/data-clustering-2.csv', None, comments='#', delimiter=',')\n",
    "plt.scatter(data[0],data[1])\n",
    "\n",
    "k = 2\n",
    "\n",
    "#use lloyds here\n",
    "#use MacQueen here\n",
    "#use Hartigan here\n",
    "\n",
    "n = len(data[0])\n",
    "S = np.zeros(n,n)\n",
    "beta = 1\n",
    "\n",
    "#spectral clustering\n",
    "S = [np.exp(-b*np.norm(i-j))**2 for i,j in data[0],data[1]]\n"
   ]
  },
  {
   "cell_type": "markdown",
   "metadata": {},
   "source": [
    "### Task 3.3 (Yakun)"
   ]
  },
  {
   "cell_type": "code",
   "execution_count": null,
   "metadata": {
    "collapsed": false
   },
   "outputs": [],
   "source": [
    "dataX = np.loadtxt('resources/data-dimred-X.csv', None, comments='#', delimiter=',')\n",
    "dataY = np.loadtxt('resources/data-dimred-y.csv', None, comments='#', delimiter=',')\n",
    "num_row, num_col = np.shape(dataX)\n",
    "\n",
    "# add all columns and divide the number of columns\n",
    "x_mean = dataX.sum(axis=1, dtype='float') / num_col \n",
    "\n",
    "# substract all columns by x_mean to move data set to 0 mean, get X tranpose here\n",
    "Xtr = np.transpose(dataX) - x_mean\n",
    "\n",
    "# data covariance matrix\n",
    "X = np.transpose(Xtr)\n",
    "C = np.dot(X, Xtr) / num_col\n",
    "\n",
    "# compute eigen values and eigen vectors\n",
    "evalsh, evectsh = la.eigh(C)\n",
    "\n",
    "# sort eigen values and eigen vectors in descending order\n",
    "indx = np.argsort(evalsh)[::-1]\n",
    "evalsh = evalsh[indx]\n",
    "evectsh = evectsh[:, indx]\n",
    "\n",
    "# use largest two eigen vector to project the data into 2d\n",
    "X2d = np.dot(np.transpose(evectsh[:, [0, 1]]), X)\n",
    "\n",
    "## below is the implementation of LDA\n",
    "\n",
    "# get index for 1, 2, 3 from Y\n",
    "ind = np.vstack((np.vstack((np.where(dataY == 1)[0], np.where(dataY == 2)[0])), np.where(dataY == 3)[0]))\n",
    "\n",
    "# get the mean of each class\n",
    "mean_one = X[:, ind[0]].sum(axis=1, dtype='float') / len(ind[0])\n",
    "mean_two = X[:, ind[1]].sum(axis=1, dtype='float') / len(ind[1])\n",
    "mean_thr = X[:, ind[2]].sum(axis=1, dtype='float') / len(ind[2])\n",
    "\n",
    "# get each data class substract the corresponding mean\n",
    "sub_mat_one = X[:, ind[0]] - np.vstack(mean_one)\n",
    "sub_mat_two = X[:, ind[1]] - np.vstack(mean_two)\n",
    "sub_mat_thr = X[:, ind[2]] - np.vstack(mean_thr)\n",
    "\n",
    "# compute within class scatter matrix\n",
    "Sw = np.dot(sub_mat_one, np.transpose(sub_mat_one)) + np.dot(sub_mat_two, np.transpose(sub_mat_two)) + np.dot(sub_mat_thr, np.transpose(sub_mat_thr))\n",
    "\n",
    "# compute the between class scatter matrix \n",
    "sub_mean_12 = mean_one - mean_two\n",
    "sub_mean_13 = mean_one - mean_thr\n",
    "sub_mean_23 = mean_two - mean_thr\n",
    "Sb = np.vstack(sub_mean_12) * sub_mean_12 + np.vstack(sub_mean_13) * sub_mean_13 + np.vstack(sub_mean_23) * sub_mean_23\n",
    "\n",
    "# compute eigen values and eigen vectors\n",
    "evalsh_lda, evectsh_lda = la.eigh(np.dot(np.linalg.inv(Sw), Sb))\n",
    "\n",
    "# sort eigen values and eigen vectors in descending order\n",
    "indx_lda = np.argsort(evalsh_lda)[::-1]\n",
    "evalsh_lda = evalsh_lda[indx_lda]\n",
    "evectsh_lda = evectsh_lda[:, indx_lda]\n",
    "\n",
    "# use largest two eigen vector to project the data into 2d\n",
    "X2d_lda = np.dot(np.transpose(evectsh_lda[:, [0, 1]]), X)\n",
    "\n",
    "# get 3d dataset\n",
    "X3d = np.dot(np.transpose(evectsh[:, [0, 1, 2]]), X)\n",
    "X3d_lda = np.dot(np.transpose(evectsh_lda[:, [0, 1, 2]]), X)\n",
    "\n",
    "# plot\n",
    "fig, axes = subplots(ncols=2, figsize=(15,5))\n",
    "ax = axes[0]\n",
    "ax1 = axes[1]\n",
    "\n",
    "ax.set_title('PCA, 2d')\n",
    "ax.set_xlabel('first dimension')\n",
    "ax.set_ylabel('second dimension')\n",
    "ax.set_xlim([-25.0,15.0])\n",
    "ax.set_ylim([-25.0,20.0])\n",
    "ax.scatter(X2d[0], X2d[1], label='2d data')\n",
    "legend = ax.legend(loc='upper left', prop={'size':9})\n",
    "\n",
    "ax1.set_title('LDA, 2d')\n",
    "ax1.set_xlabel('first dimension')\n",
    "ax1.set_ylabel('second dimension')\n",
    "ax1.set_xlim([-25.0,15.0])\n",
    "ax1.set_ylim([-25.0,20.0])\n",
    "ax1.scatter(X2d_lda[0], X2d_lda[1], label='2d data')\n",
    "legend = ax1.legend(loc='upper left', prop={'size':9})"
   ]
  },
  {
   "cell_type": "code",
   "execution_count": null,
   "metadata": {
    "collapsed": false
   },
   "outputs": [],
   "source": [
    "fig2 = plt.figure(figsize=(15, 8)) \n",
    "\n",
    "ax2 = fig2.add_subplot(1, 2, 1, projection='3d')\n",
    "ax2.set_title('PCA, 3d')\n",
    "ax2.set_xlabel('1st dim')\n",
    "ax2.set_ylabel('2nd dim')\n",
    "ax2.set_zlabel('3rd dim')\n",
    "ax2.set_xlim([-25.0,15.0])\n",
    "ax2.set_ylim([-25.0,20.0])\n",
    "ax2.set_zlim([-8.0,8.0])\n",
    "ax2.scatter(X3d[0], X3d[1], X3d[2], label='3d data')\n",
    "\n",
    "ax2 = fig2.add_subplot(1, 2, 2, projection='3d')\n",
    "ax2.set_title('LDA, 3d')\n",
    "ax2.set_xlabel('1st dim')\n",
    "ax2.set_ylabel('2nd dim')\n",
    "ax2.set_zlabel('3rd dim')\n",
    "ax2.set_xlim([-25.0,15.0])\n",
    "ax2.set_ylim([-25.0,20.0])\n",
    "ax2.set_zlim([-8.0,8.0])\n",
    "ax2.scatter(X3d_lda[0], X3d_lda[1], X3d_lda[2], label='3d data')"
   ]
  },
  {
   "cell_type": "code",
   "execution_count": null,
   "metadata": {
    "collapsed": true
   },
   "outputs": [],
   "source": []
  }
 ],
 "metadata": {
  "kernelspec": {
   "display_name": "Python 2",
   "language": "python",
   "name": "python2"
  },
  "language_info": {
   "codemirror_mode": {
    "name": "ipython",
    "version": 2
   },
   "file_extension": ".py",
   "mimetype": "text/x-python",
   "name": "python",
   "nbconvert_exporter": "python",
   "pygments_lexer": "ipython2",
   "version": "2.7.10"
  }
 },
 "nbformat": 4,
 "nbformat_minor": 0
}
