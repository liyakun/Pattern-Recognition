{
 "cells": [
  {
   "cell_type": "markdown",
   "metadata": {},
   "source": [
    "## Solution to the second project"
   ]
  },
  {
   "cell_type": "markdown",
   "metadata": {},
   "source": [
    "#### All the imports here"
   ]
  },
  {
   "cell_type": "code",
   "execution_count": 18,
   "metadata": {
    "collapsed": false
   },
   "outputs": [],
   "source": [
    "import numpy as np\n",
    "from numpy import linspace, vstack, zeros, arange, power, abs\n",
    "from scipy.stats import multivariate_normal as mn\n",
    "from numpy.linalg import inv\n",
    "import random\n",
    "from time import time"
   ]
  },
  {
   "cell_type": "markdown",
   "metadata": {},
   "source": [
    "#### Making matplotlib more tolerable"
   ]
  },
  {
   "cell_type": "code",
   "execution_count": 19,
   "metadata": {
    "collapsed": false
   },
   "outputs": [
    {
     "name": "stdout",
     "output_type": "stream",
     "text": [
      "Populating the interactive namespace from numpy and matplotlib\n"
     ]
    },
    {
     "name": "stderr",
     "output_type": "stream",
     "text": [
      "WARNING: pylab import has clobbered these variables: ['dist', 'axes', 'legend', 'random', 'colors']\n",
      "`%matplotlib` prevents importing * from pylab and numpy\n"
     ]
    }
   ],
   "source": [
    "import matplotlib.pyplot as plt\n",
    "%pylab inline\n",
    "plt.xkcd();"
   ]
  },
  {
   "cell_type": "markdown",
   "metadata": {},
   "source": [
    "### Plotting functions below"
   ]
  },
  {
   "cell_type": "code",
   "execution_count": 20,
   "metadata": {
    "collapsed": true
   },
   "outputs": [],
   "source": [
    "#plotting functions here"
   ]
  },
  {
   "cell_type": "markdown",
   "metadata": {},
   "source": [
    "### Task 2.1 (yobibyte)"
   ]
  },
  {
   "cell_type": "code",
   "execution_count": null,
   "metadata": {
    "collapsed": true
   },
   "outputs": [],
   "source": [
    "def custom_fit(x, y, deg):\n",
    "    res_x = np.ones(len(x))\n",
    "    for i in range(1, deg+1):\n",
    "        res_x = np.vstack((res_x, x**i))\n",
    "    x_tr = res_x\n",
    "    x_ntr = np.transpose(res_x) \n",
    "    return np.dot(np.linalg.pinv(x_ntr),y) #TODO need to fix this line and use it instead of lib\n",
    "    #return np.polyfit(x,y,deg)"
   ]
  },
  {
   "cell_type": "code",
   "execution_count": null,
   "metadata": {
    "collapsed": false
   },
   "outputs": [],
   "source": [
    "dt = np.dtype([('w', np.float), ('h', np.float), ('g', 'S1')])\n",
    "data = np.loadtxt('resources/whData.dat', dtype=dt, comments='#', delimiter=None)\n",
    "\n",
    "ws = data['w']\n",
    "hs = data['h']\n",
    "gs = np.array([el.decode('utf-8') for el in data['g']])\n",
    "\n",
    "hs_t = hs[np.where(ws < 0)]\n",
    "gs_t = gs[np.where(ws < 0)]\n",
    "ws_t = ws[np.where(ws < 0)]\n",
    "\n",
    "hs = np.delete(hs, np.where(ws < 0), None)\n",
    "gs = np.delete(gs, np.where(ws < 0), None)\n",
    "ws = np.delete(ws, np.where(ws < 0), None)\n",
    "\n",
    "print(custom_fit(hs,ws,1))\n",
    "print(np.polyfit(hs,ws,1))\n",
    "\n",
    "p = np.poly1d(custom_fit(hs,ws,1))\n",
    "p3 = np.poly1d(custom_fit(hs,ws,3))\n",
    "p5 = np.poly1d(custom_fit(hs,ws,5))\n",
    "xp = np.linspace(156, 187, 100)\n",
    "\n",
    "colors = ['r'if el=='f' else 'b' for el in gs]\n",
    "\n",
    "fig,axes = subplots(ncols=2, figsize=(15,5))\n",
    "ax = axes[0]\n",
    "ax2 = axes[1]\n",
    "\n",
    "ax.set_title('fit')\n",
    "ax.set_xlabel('height')\n",
    "ax.set_ylabel('weight')\n",
    "ax.scatter(hs, ws, label='data')\n",
    "ax.plot(xp, p(xp), '-', label='1st deg reg', color='r')\n",
    "ax.plot(xp, p3(xp), '--', label='3rd deg reg',color='g')\n",
    "ax.plot(xp, p5(xp), ':', label='5th deg red',color='m')\n",
    "legend = ax.legend(loc='lower right')\n",
    "\n",
    "ax2.set_ylabel('weight')\n",
    "ax2.set_xlabel('height')\n",
    "ax2.set_title('prediction')\n",
    "ax2.scatter(hs_t, p(hs_t), label='1st deg reg', color='r')\n",
    "ax2.scatter(hs_t, p3(hs_t), label='3rd deg reg',color='g')\n",
    "ax2.scatter(hs_t, p5(hs_t), label='5th deg red',color='m')\n",
    "legend = ax2.legend(loc='lower right')"
   ]
  },
  {
   "cell_type": "markdown",
   "metadata": {},
   "source": [
    "### Task 2.2 (yakun)"
   ]
  },
  {
   "cell_type": "code",
   "execution_count": null,
   "metadata": {
    "collapsed": false
   },
   "outputs": [],
   "source": [
    "h_mean, h_std, h_var = np.mean(hs), np.std(hs), np.var(hs)\n",
    "w_mean, w_std, w_var = np.mean(ws), np.std(ws), np.var(ws)\n",
    "correlation_h_w = np.linalg.det(np.cov(hs, ws) / (h_std * w_std))\n",
    "joint_mean = np.array([h_mean, w_mean])\n",
    "joint_cov = np.mat([[h_var, correlation_h_w * h_std * w_std], [correlation_h_w * h_std * w_std, w_var]])\n",
    "\n",
    "#  predict\n",
    "exp_w = [w_mean + correlation_h_w * (w_std / h_std) * (el - h_mean) for el in hs_t]\n",
    "\n",
    "#  plot\n",
    "x, y = np.mgrid[155:195:0.5, 40:110:0.5]\n",
    "fig2 = plt.figure()\n",
    "ax2 = fig2.add_subplot(111)\n",
    "pos = np.empty(x.shape + (2,))\n",
    "pos[:, :, 0] = x\n",
    "pos[:, :, 1] = y\n",
    "rv = mn.pdf(pos, joint_mean, joint_cov)\n",
    "ax2.contour(x, y, rv)\n",
    "X = np.vstack((hs, ws))\n",
    "Pre = np.vstack((hs_t, exp_w))\n",
    "ax2.plot(X[0, :], X[1, :], 'ro', label='data')\n",
    "ax2.plot(Pre[0, :], Pre[1, :], 'ro', label='exp data', color='blue')\n",
    "leg = ax2.legend(loc='upper left', shadow=True, fancybox=True, numpoints=1, prop={'size':9})\n",
    "leg.get_frame().set_alpha(0.8)"
   ]
  },
  {
   "cell_type": "markdown",
   "metadata": {},
   "source": [
    "### Task 2.3 (yakun)"
   ]
  },
  {
   "cell_type": "code",
   "execution_count": null,
   "metadata": {
    "collapsed": false
   },
   "outputs": [],
   "source": [
    "# x->hs, y->ws\n",
    "X = np.array([np.array([np.power(x, 0), np.power(x, 1), np.power(x, 2), np.power(x, 3), np.power(x, 4), np.power(x, 5)]) for x in hs])\n",
    "mat_inv = inv(np.dot(X.transpose(), X) + (h_var / 3) * np.identity(6))\n",
    "w_map = np.dot(np.dot(mat_inv, X.transpose()), ws)\n",
    "\n",
    "# plot\n",
    "fig2 = plt.figure()\n",
    "ax2 = fig2.add_subplot(111)\n",
    "ax2.set_xlim([155, 195])\n",
    "ax2.set_ylim([0, 120])\n",
    "x = np.arange(155, 195, 0.5)\n",
    "re = w_map[0] * np.power(x, 0) + w_map[1] * np.power(x, 1) + w_map[2] * np.power(x, 2) + w_map[3] * np.power(x, 3) + w_map[4] * np.power(x, 4) + w_map[5] * np.power(x, 5)\n",
    "ax2.plot(hs, ws, 'ro', label='data')\n",
    "ax2.plot(x, re)\n",
    "outliers = [w_map[0] * np.power(x, 0) + w_map[1] * np.power(x, 1) + w_map[2] * np.power(x, 2) + w_map[3] * np.power(x, 3) + w_map[4] * np.power(x, 4) + w_map[5] * np.power(x, 5) for x in hs_t]\n",
    "ax2.plot(hs_t, outliers, 'ro', label='exp data', color='blue')\n",
    "leg = ax2.legend(loc='upper left', shadow=True, fancybox=True, numpoints=1, prop={'size':9})\n",
    "leg.get_frame().set_alpha(0.8)"
   ]
  },
  {
   "cell_type": "markdown",
   "metadata": {},
   "source": [
    "### Task 2.4 (yobibyte)"
   ]
  },
  {
   "cell_type": "code",
   "execution_count": null,
   "metadata": {
    "collapsed": false
   },
   "outputs": [],
   "source": [
    "n = [1,3,5,7,9,11,13,15,17,19]\n",
    "\n",
    "dt = np.dtype([('x1', np.float), ('x2', np.float), ('y',  np.float)])\n",
    "\n",
    "data = np.loadtxt('resources/data2-train.dat', dtype=dt, comments='#', delimiter=None)\n",
    "Xtr,ytr = np.array([[el[0],el[1]] for el in data]),data['y']\n",
    "\n",
    "data = np.loadtxt('resources/data2-test.dat', dtype=dt, comments='#', delimiter=None)\n",
    "Xt,yt = np.array([[el[0],el[1]] for el in data]),data['y']\n",
    "\n",
    "#k-neighbours train is just storing the train data\n",
    "#that is already done\n",
    "\n",
    "#test\n",
    "preds = []\n",
    "timing = []\n",
    "for k in n:\n",
    "    st_t = time()\n",
    "    curr_pred = []\n",
    "    for p in Xt:\n",
    "        dist = [np.abs(np.linalg.norm(tr-p)) for tr in Xtr]\n",
    "        neighbours = np.argsort(dist)[:k]\n",
    "        n_vals = ytr[neighbours]\n",
    "        #hey! will be strange for even k's\n",
    "        pred = 1.0 if sum(n_vals) > 0 else -1.0\n",
    "        curr_pred.append(pred)\n",
    "    timing.append(time()-st_t)\n",
    "    preds.append(curr_pred)\n",
    "    \n",
    "acc = []\n",
    "for p in preds:\n",
    "    corr = [int(i)==int(j) for i,j in zip(yt,p)]\n",
    "    corr = sum(corr)/(1.0*len(corr))\n",
    "    acc.append(corr)  \n",
    "    \n",
    "fig,axes = subplots(ncols=2, figsize=(15,5))\n",
    "ax = axes[0]\n",
    "ax2 = axes[1]\n",
    "\n",
    "ax.set_title('k-neighbours accuracy, %')\n",
    "ax.set_xlabel('k')\n",
    "ax.set_ylabel('accuracy')\n",
    "ax.plot(n, acc);    \n",
    "\n",
    "ax2.set_title('k-neighbours timing, ms')\n",
    "ax2.set_xlabel('k')\n",
    "ax2.set_ylabel('time')\n",
    "ax2.plot(n, timing);"
   ]
  },
  {
   "cell_type": "markdown",
   "metadata": {},
   "source": [
    "### Task 2.5"
   ]
  },
  {
   "cell_type": "code",
   "execution_count": null,
   "metadata": {
    "collapsed": true
   },
   "outputs": [],
   "source": []
  },
  {
   "cell_type": "code",
   "execution_count": null,
   "metadata": {
    "collapsed": true
   },
   "outputs": [],
   "source": []
  }
 ],
 "metadata": {
  "kernelspec": {
   "display_name": "Python 2",
   "language": "python",
   "name": "python2"
  },
  "language_info": {
   "codemirror_mode": {
    "name": "ipython",
    "version": 2
   },
   "file_extension": ".py",
   "mimetype": "text/x-python",
   "name": "python",
   "nbconvert_exporter": "python",
   "pygments_lexer": "ipython2",
   "version": "2.7.11"
  }
 },
 "nbformat": 4,
 "nbformat_minor": 0
}
